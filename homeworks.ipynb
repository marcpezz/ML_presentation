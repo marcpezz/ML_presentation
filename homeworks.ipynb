{
 "cells": [
  {
   "cell_type": "markdown",
   "id": "c23a4319-52f4-4257-820c-6d1169cfe74a",
   "metadata": {},
   "source": [
    "# Homework: predicting C$_2$H$_2$ and C$_2$ energy levels \n",
    "\n",
    "## C$_2$H$_2$\n",
    "\n",
    " From the [Marvel website](http://kkrk.chem.elte.hu/marvelonline/data_files/C2H2_energylevels_2019-03-20.txt) download the moelcule's states file. The file contains 7 vibrational quantum numbers (v1, v2, v3, v4, v5, l4, l5), two rotational numbers (k, J), and some symmetry numbers (ef, op, u/g and symm). Remove the states with -1, as they indicate unknown levels. \n",
    "\n",
    "\n",
    "| v1 | v2 | v3 | v4 | l4 | v5 | l5 | k | J | ef | op    | Energy     | Unc      | NumTrans | u/g | Sym            |\n",
    "|----|----|----|----|----|----|----|---|---|----|-------|------------|----------|----------|-----|----------------|\n",
    "| 0  | 0  | 0  | 0  | 0  | 0  | 0  | 0 | 1 | e  | ortho | 2.353286   | 0.000000 | 204      | g   | sigma_g_plus  |\n",
    "| 0  | 0  | 0  | 0  | 0  | 0  | 0  | 0 | 3 | e  | ortho | 14.119512  | 0.000041 | 289      | g   | sigma_g_plus  |\n",
    "\n",
    "\n",
    "\n",
    "| Column          | Description                                                                 |\n",
    "|------------------|-----------------------------------------------------------------------------|\n",
    "| `v1, v2, v3, v4, l4, v5, l5` | Quantum numbers representing vibrational or rotational states.       |\n",
    "| `k`              | Likely a rotational quantum number.                                         |\n",
    "| `J`              | Total angular momentum quantum number.                                      |\n",
    "| `ef`             | Parity (e or f) or electronic state.                                        |\n",
    "| `op`             | Symmetry or spin designation (e.g., ortho/para).                            |\n",
    "| `Energy`         | Energy of the state in arbitrary units (often cm⁻¹ or eV).                  |\n",
    "| `Unc`            | Uncertainty in the energy value.                                            |\n",
    "| `NumTrans`       | Number of transitions involving this state.                                 |\n",
    "| `u/g`            | Symmetry under inversion (ungerade = u, gerade = g).                        |\n",
    "| `Sym`            | Full symmetry label, such as irreducible representation of the state.       |\n",
    "\n",
    "\n",
    "\n",
    "### What to do: \n",
    "1. Build two models of your choice for predicting the states, using the vibrational and rotational numbers. Try to reach the chemical accuracy (~1 kcal/mol or ~0.05 eV).\n",
    "2. Perform the same task adding the symmetry quantum numbers. How do the results change?\n",
    "3. Is it possible to clusterise the states based on their symmetries?\n",
    "\n",
    "[MARVEL website for C2H2](http://kkrk.chem.elte.hu/marvelonline/getdata.php?molid=8&isotopid=21)\n"
   ]
  },
  {
   "cell_type": "code",
   "execution_count": null,
   "id": "97973b2e-4c71-4200-bddb-802944011da7",
   "metadata": {},
   "outputs": [],
   "source": []
  },
  {
   "cell_type": "markdown",
   "id": "40d05e42-d9c5-43eb-a96a-2960caed4d69",
   "metadata": {},
   "source": [
    "## C$_2$\n",
    "From the [ExoMol website](https:www.exomol.com), download the states file for [$^{12}$C$_2$](https://exomol.com/db/C2/12C2/8states/12C2__8states.states.bz2) and [$^{13}$C$_2$](https://exomol.com/db/C2/13C2/8states/13C2__8states.states.bz2). \n",
    "\n",
    "\n",
    "\n",
    "| Index | Energy      | $g_\\mathrm{tot}$  | $J$ | Unc   | $\\tau$        | $g$    | $\\pm$ | ef | State         | v | $\\Lambda$ | $\\Sigma$ | $\\Omega$ | F$_{sym}$ | idx | src    | E$_{calc}$    |\n",
    "|-------|-------------|-----|-----|----------|------------|--------|-----|----|---------------|-----|-----|-----|-----|----------|-----|--------|-------------|\n",
    "| 1     | 0.000000    | 1   | 0   | 0.009813 | Inf        | 0.0000 | +   | e  | X(1SIGMA+g)   | 0   | 0   | 0   | 0   | F1       | 0   | d      | 0.000000    |\n",
    "| 2     | 1827.487599 | 1   | 0   | 0.000900 | 1.7058E+03 | 0.0000 | +   | e  | X(1SIGMA+g)   | 1   | 0   | 0   | 0   | F1       | 0   | m      | 1827.480518 |\n",
    "\n",
    "\n",
    "\"**NB:** The ExoMol states file is in the following format. (Old format, see the [most recent paper](https://doi.org/10.48550/arXiv.2406.06347) for the formatting of more recent data.\n",
    "| Field                  | Description                                                                 |\n",
    "|------------------------|-----------------------------------------------------------------------------|\n",
    "| `i`                    | State ID                                                                    |\n",
    "| $\\tilde{E}$            | Recommended state energy in $\\\\mathrm{cm^{-1}}$                            |\n",
    "| $g_\\mathrm{tot}$       | State degeneracy                                                            |\n",
    "| $J$                    | Total angular momentum quantum number, $J$ or $F$ (integer/half-integer)    |\n",
    "| Unc                    | Uncertainty in the state energy in $\\\\mathrm{cm^{-1}}$                       |\n",
    "| $\\tau$                 | State lifetime (aggregated radiative and predissociative lifetimes) in s    |\n",
    "| $g$                  | Landé $g$-factor (optional)                                                 |\n",
    "| QN                   | State quantum numbers, may be several columns (optional)                    |\n",
    "\n",
    "\n",
    "### What to do \n",
    "1. Predict the molecular constants for the X(1SIGMA+g) and the b(3SIGMA-g). Compare the constants obtained for 12C2 with the ones available from the [NIST database](https://webbook.nist.gov/cgi/inchi?ID=C12070154&Mask=1000#Diatomic).\n",
    "2. Use  a Kernel model to reproduce the [heat capacity](https://exomol.com/db/C2/12C2/8states/12C2__8states.cp)  and [partition function](https://exomol.com/db/C2/12C2/8states/12C2__8states.pf) of $^{12}$C$_2$.\n",
    "\n",
    "[ExoMol website for C2.](https://exomol.com/data/molecules/C2/12C2/8states/)\n"
   ]
  },
  {
   "cell_type": "code",
   "execution_count": null,
   "id": "7aedd779-a829-40fd-8f62-a9410ef1935b",
   "metadata": {},
   "outputs": [],
   "source": []
  }
 ],
 "metadata": {
  "kernelspec": {
   "display_name": "sklearn",
   "language": "python",
   "name": "sklearn"
  },
  "language_info": {
   "codemirror_mode": {
    "name": "ipython",
    "version": 3
   },
   "file_extension": ".py",
   "mimetype": "text/x-python",
   "name": "python",
   "nbconvert_exporter": "python",
   "pygments_lexer": "ipython3",
   "version": "3.11.5"
  }
 },
 "nbformat": 4,
 "nbformat_minor": 5
}
